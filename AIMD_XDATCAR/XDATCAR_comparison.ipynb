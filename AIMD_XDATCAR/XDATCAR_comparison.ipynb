{
 "cells": [
  {
   "cell_type": "code",
   "execution_count": 13,
   "id": "ee7da40b",
   "metadata": {},
   "outputs": [
    {
     "name": "stdout",
     "output_type": "stream",
     "text": [
      "0.06899854450356341\n"
     ]
    }
   ],
   "source": [
    "import numpy as np\n",
    "\n",
    "\n",
    "def get_mean_structure(path: str, coords_range: tuple|None = None, step_size: int = 1):\n",
    "    with open(path) as f:\n",
    "        fl = f.readlines()\n",
    "    \n",
    "    cell = np.asarray([_.split() for _ in fl[2:5]], dtype=np.float64)\n",
    "    n_atom = sum(int(_) for _ in fl[6].split())  # 列表推导式\n",
    "    n_step = int(fl[-n_atom-1].split()[-1])\n",
    "    if coords_range is not None:\n",
    "        if len(coords_range) != 2: raise ValueError('coords_range must be None or 2 element tuple')\n",
    "        if coords_range[0] < 1: raise ValueError('Invalid lower bound value.')\n",
    "        if coords_range[0] > coords_range[1]: raise ValueError('lower bound is greater than upper bound.')\n",
    "        if coords_range[-1] > n_step: coords_range = (coords_range[0], n_step)\n",
    "    else:\n",
    "        coords_range = (0, n_step)\n",
    "    coordinates = fl[7:]  # all coordinates without cell vector & elements.\n",
    "    configurations = list()\n",
    "    for i in range(coords_range[0] - 1, coords_range[1], step_size):\n",
    "        coord = coordinates[(n_atom + 1) * i: (n_atom + 1) * (i + 1)]\n",
    "        coord = [_.split() for _ in coord[1:]]\n",
    "        configurations.append(coord)\n",
    "    configurations = np.asarray(configurations, dtype=np.float64)\n",
    "    \n",
    "    return np.mean(configurations @ cell, axis=0)\n",
    "\n",
    "def diff_coords(X1: np.ndarray, X2: np.ndarray):\n",
    "    if X1.shape != X2.shape: raise ValueError(f'The shape of X1 {X1.shape} and X2 {X2.shape} does not match.')\n",
    "    return np.linalg.norm(X1 - X2, )/len(X1)\n",
    "\n",
    "    \n",
    "if __name__ == '__main__':\n",
    "    X1 = get_mean_structure('./PdMoXDATCAR', coords_range=(1000, 6000))\n",
    "    X2 = get_mean_structure('./PdMoXDATCAR', coords_range=(6000, 10000))\n",
    "    rms = diff_coords(X1, X2)\n",
    "    print(rms)"
   ]
  },
  {
   "cell_type": "code",
   "execution_count": null,
   "id": "5f937fe0",
   "metadata": {},
   "outputs": [],
   "source": []
  }
 ],
 "metadata": {
  "kernelspec": {
   "display_name": "Python 3 (ipykernel)",
   "language": "python",
   "name": "python3"
  },
  "language_info": {
   "codemirror_mode": {
    "name": "ipython",
    "version": 3
   },
   "file_extension": ".py",
   "mimetype": "text/x-python",
   "name": "python",
   "nbconvert_exporter": "python",
   "pygments_lexer": "ipython3",
   "version": "3.10.7"
  }
 },
 "nbformat": 4,
 "nbformat_minor": 5
}
