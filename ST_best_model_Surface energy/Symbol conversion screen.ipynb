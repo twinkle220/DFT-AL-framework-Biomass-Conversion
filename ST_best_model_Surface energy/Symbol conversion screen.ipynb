{
 "cells": [
  {
   "cell_type": "code",
   "execution_count": 1,
   "metadata": {},
   "outputs": [],
   "source": [
    "import numpy as np\n",
    "import pandas as pd\n",
    "import csv\n",
    "import pickle\n",
    "from joblib import dump, load\n",
    "from sklearn import utils\n",
    "from sklearn import preprocessing\n",
    "from sklearn.metrics import mean_squared_error\n",
    "from sklearn.metrics import r2_score\n",
    "from sklearn.model_selection import train_test_split\n",
    "from sklearn.preprocessing import StandardScaler\n",
    "from gplearn.genetic import SymbolicTransformer, SymbolicRegressor"
   ]
  },
  {
   "cell_type": "code",
   "execution_count": 2,
   "metadata": {},
   "outputs": [],
   "source": [
    "def scaling(x,x_tran=None):\n",
    "    sc = StandardScaler()\n",
    "    if x_tran is not None:\n",
    "        sc.fit(x_tran)\n",
    "        x_trans=sc.transform(x)\n",
    "    else:\n",
    "        x_trans = sc.fit_transform(x)\n",
    "    return x_trans"
   ]
  },
  {
   "cell_type": "code",
   "execution_count": 6,
   "metadata": {
    "scrolled": true
   },
   "outputs": [
    {
     "name": "stdout",
     "output_type": "stream",
     "text": [
      "     Z_1  Z_2    Z_    Z+  Nmen_1  Nmen_2  Nmen_  Nmen+   X_1   X_2  ...  \\\n",
      "0     28   21   3.5  24.5      61      11   25.0   36.0  1.91  1.36  ...   \n",
      "1     28   25   1.5  26.5      61      52    4.5   56.5  1.91  1.55  ...   \n",
      "2     28   27   0.5  27.5      61      58    1.5   59.5  1.91  1.88  ...   \n",
      "3     28   29   0.5  28.5      61      64    1.5   62.5  1.91  1.90  ...   \n",
      "4     28   41   6.5  34.5      61      47    7.0   54.0  1.91  1.60  ...   \n",
      "..   ...  ...   ...   ...     ...     ...    ...    ...   ...   ...  ...   \n",
      "161   74   76   1.0  75.0      51      57    3.0   54.0  2.36  2.20  ...   \n",
      "162   74   75   0.5  74.5      51      54    1.5   52.5  2.36  1.90  ...   \n",
      "163   22   42  10.0  32.0      43      50    3.5   46.5  1.54  2.16  ...   \n",
      "164   46   47   0.5  46.5      62      65    1.5   63.5  2.20  1.93  ...   \n",
      "165   21   29   4.0  25.0      11      64   26.5   37.5  1.36  1.90  ...   \n",
      "\n",
      "        R_     R+  Rp_1  Rp_2    Rp_    Rp+  Rv_1  Rv_2    Rv_    Rv+  \n",
      "0    0.175  1.665  1.57  1.62  0.025  1.595  0.34  0.58  0.120  0.460  \n",
      "1    0.060  1.550  1.57  1.26  0.155  1.415  0.34  0.41  0.035  0.375  \n",
      "2    0.015  1.505  1.57  1.61  0.020  1.590  0.34  0.36  0.010  0.350  \n",
      "3    0.020  1.470  1.57  1.25  0.160  1.410  0.34  1.20  0.430  0.770  \n",
      "4    0.245  1.735  1.57  1.73  0.080  1.650  0.34  0.77  0.215  0.555  \n",
      "..     ...    ...   ...   ...    ...    ...   ...   ...    ...    ...  \n",
      "161  0.040  1.890  1.61  1.51  0.050  1.560  0.79  0.72  0.035  0.755  \n",
      "162  0.025  1.905  1.61  1.55  0.030  1.580  0.79  0.75  0.020  0.770  \n",
      "163  0.070  1.830  1.54  1.66  0.060  1.600  0.52  0.73  0.105  0.625  \n",
      "164  0.020  1.670  1.46  1.42  0.020  1.440  0.58  1.32  0.370  0.950  \n",
      "165  0.195  1.645  1.62  1.25  0.185  1.435  0.58  1.20  0.310  0.890  \n",
      "\n",
      "[166 rows x 44 columns]\n"
     ]
    }
   ],
   "source": [
    "#rawData = pd.read_excel('general10.xlsx')\n",
    "rawData = pd.read_excel('pred600.xlsx')\n",
    "standData=pd.read_excel('data83.xlsx')\n",
    "standX=standData.iloc[:,1:-1]\n",
    "inputData = rawData.iloc[:,1:]\n",
    "inputData = scaling(inputData,standX)\n",
    "print(standX)\n",
    "# inputData"
   ]
  },
  {
   "cell_type": "code",
   "execution_count": 7,
   "metadata": {
    "scrolled": true
   },
   "outputs": [
    {
     "data": {
      "text/plain": [
       "array([[15.80133665,  3.34980992,  3.73089174, 16.03692394,  4.79373674,\n",
       "         5.14346086],\n",
       "       [ 4.95495602,  1.60078918,  1.69506831,  3.83319453,  2.57025747,\n",
       "         2.64513573],\n",
       "       [ 3.81539391,  1.15288658,  1.19718515,  2.16389754,  2.06560813,\n",
       "         2.23830392],\n",
       "       ...,\n",
       "       [14.40030494,  3.43124876,  3.40047472, 14.48393504,  4.74304785,\n",
       "         4.89165616],\n",
       "       [16.05729566,  3.63407403,  3.71618663, 16.08206697,  5.00352608,\n",
       "         5.16139671],\n",
       "       [15.0431672 ,  3.44458118,  3.54153905, 14.22165522,  4.66784531,\n",
       "         4.86236084]])"
      ]
     },
     "execution_count": 7,
     "metadata": {},
     "output_type": "execute_result"
    }
   ],
   "source": [
    "best_gp = pickle.load(open(\"6Dgp_6D.pickle.dat\", \"rb\"))\n",
    "best_gp\n",
    "gp_features = best_gp.transform(inputData)\n",
    "gp_features"
   ]
  },
  {
   "cell_type": "code",
   "execution_count": 8,
   "metadata": {},
   "outputs": [
    {
     "data": {
      "text/html": [
       "<div>\n",
       "<style scoped>\n",
       "    .dataframe tbody tr th:only-of-type {\n",
       "        vertical-align: middle;\n",
       "    }\n",
       "\n",
       "    .dataframe tbody tr th {\n",
       "        vertical-align: top;\n",
       "    }\n",
       "\n",
       "    .dataframe thead th {\n",
       "        text-align: right;\n",
       "    }\n",
       "</style>\n",
       "<table border=\"1\" class=\"dataframe\">\n",
       "  <thead>\n",
       "    <tr style=\"text-align: right;\">\n",
       "      <th></th>\n",
       "      <th>0</th>\n",
       "      <th>1</th>\n",
       "      <th>2</th>\n",
       "      <th>3</th>\n",
       "      <th>4</th>\n",
       "      <th>5</th>\n",
       "    </tr>\n",
       "  </thead>\n",
       "  <tbody>\n",
       "    <tr>\n",
       "      <th>0</th>\n",
       "      <td>15.801337</td>\n",
       "      <td>3.349810</td>\n",
       "      <td>3.730892</td>\n",
       "      <td>16.036924</td>\n",
       "      <td>4.793737</td>\n",
       "      <td>5.143461</td>\n",
       "    </tr>\n",
       "    <tr>\n",
       "      <th>1</th>\n",
       "      <td>4.954956</td>\n",
       "      <td>1.600789</td>\n",
       "      <td>1.695068</td>\n",
       "      <td>3.833195</td>\n",
       "      <td>2.570257</td>\n",
       "      <td>2.645136</td>\n",
       "    </tr>\n",
       "    <tr>\n",
       "      <th>2</th>\n",
       "      <td>3.815394</td>\n",
       "      <td>1.152887</td>\n",
       "      <td>1.197185</td>\n",
       "      <td>2.163898</td>\n",
       "      <td>2.065608</td>\n",
       "      <td>2.238304</td>\n",
       "    </tr>\n",
       "    <tr>\n",
       "      <th>3</th>\n",
       "      <td>4.675804</td>\n",
       "      <td>1.314685</td>\n",
       "      <td>1.442367</td>\n",
       "      <td>2.593664</td>\n",
       "      <td>2.177470</td>\n",
       "      <td>2.548454</td>\n",
       "    </tr>\n",
       "    <tr>\n",
       "      <th>4</th>\n",
       "      <td>6.924652</td>\n",
       "      <td>1.951284</td>\n",
       "      <td>2.309991</td>\n",
       "      <td>4.139217</td>\n",
       "      <td>2.634593</td>\n",
       "      <td>3.124625</td>\n",
       "    </tr>\n",
       "    <tr>\n",
       "      <th>...</th>\n",
       "      <td>...</td>\n",
       "      <td>...</td>\n",
       "      <td>...</td>\n",
       "      <td>...</td>\n",
       "      <td>...</td>\n",
       "      <td>...</td>\n",
       "    </tr>\n",
       "    <tr>\n",
       "      <th>595</th>\n",
       "      <td>0.799349</td>\n",
       "      <td>1.257950</td>\n",
       "      <td>1.111543</td>\n",
       "      <td>2.301616</td>\n",
       "      <td>0.726266</td>\n",
       "      <td>1.275680</td>\n",
       "    </tr>\n",
       "    <tr>\n",
       "      <th>596</th>\n",
       "      <td>3.742280</td>\n",
       "      <td>1.872321</td>\n",
       "      <td>1.910848</td>\n",
       "      <td>3.643944</td>\n",
       "      <td>2.017453</td>\n",
       "      <td>2.292762</td>\n",
       "    </tr>\n",
       "    <tr>\n",
       "      <th>597</th>\n",
       "      <td>14.400305</td>\n",
       "      <td>3.431249</td>\n",
       "      <td>3.400475</td>\n",
       "      <td>14.483935</td>\n",
       "      <td>4.743048</td>\n",
       "      <td>4.891656</td>\n",
       "    </tr>\n",
       "    <tr>\n",
       "      <th>598</th>\n",
       "      <td>16.057296</td>\n",
       "      <td>3.634074</td>\n",
       "      <td>3.716187</td>\n",
       "      <td>16.082067</td>\n",
       "      <td>5.003526</td>\n",
       "      <td>5.161397</td>\n",
       "    </tr>\n",
       "    <tr>\n",
       "      <th>599</th>\n",
       "      <td>15.043167</td>\n",
       "      <td>3.444581</td>\n",
       "      <td>3.541539</td>\n",
       "      <td>14.221655</td>\n",
       "      <td>4.667845</td>\n",
       "      <td>4.862361</td>\n",
       "    </tr>\n",
       "  </tbody>\n",
       "</table>\n",
       "<p>600 rows × 6 columns</p>\n",
       "</div>"
      ],
      "text/plain": [
       "             0         1         2          3         4         5\n",
       "0    15.801337  3.349810  3.730892  16.036924  4.793737  5.143461\n",
       "1     4.954956  1.600789  1.695068   3.833195  2.570257  2.645136\n",
       "2     3.815394  1.152887  1.197185   2.163898  2.065608  2.238304\n",
       "3     4.675804  1.314685  1.442367   2.593664  2.177470  2.548454\n",
       "4     6.924652  1.951284  2.309991   4.139217  2.634593  3.124625\n",
       "..         ...       ...       ...        ...       ...       ...\n",
       "595   0.799349  1.257950  1.111543   2.301616  0.726266  1.275680\n",
       "596   3.742280  1.872321  1.910848   3.643944  2.017453  2.292762\n",
       "597  14.400305  3.431249  3.400475  14.483935  4.743048  4.891656\n",
       "598  16.057296  3.634074  3.716187  16.082067  5.003526  5.161397\n",
       "599  15.043167  3.444581  3.541539  14.221655  4.667845  4.862361\n",
       "\n",
       "[600 rows x 6 columns]"
      ]
     },
     "execution_count": 8,
     "metadata": {},
     "output_type": "execute_result"
    }
   ],
   "source": [
    "data =pd.DataFrame(gp_features)\n",
    "data.to_csv(\"GP_6D_600.csv\",index=False,sep=',')\n",
    "# data.to_csv(\"GP_6D_10.csv\",index=False,sep=',')\n",
    "data"
   ]
  },
  {
   "cell_type": "code",
   "execution_count": null,
   "metadata": {},
   "outputs": [],
   "source": []
  }
 ],
 "metadata": {
  "kernelspec": {
   "display_name": "Python 3 (ipykernel)",
   "language": "python",
   "name": "python3"
  },
  "language_info": {
   "codemirror_mode": {
    "name": "ipython",
    "version": 3
   },
   "file_extension": ".py",
   "mimetype": "text/x-python",
   "name": "python",
   "nbconvert_exporter": "python",
   "pygments_lexer": "ipython3",
   "version": "3.10.9"
  },
  "varInspector": {
   "cols": {
    "lenName": 16,
    "lenType": 16,
    "lenVar": 40
   },
   "kernels_config": {
    "python": {
     "delete_cmd_postfix": "",
     "delete_cmd_prefix": "del ",
     "library": "var_list.py",
     "varRefreshCmd": "print(var_dic_list())"
    },
    "r": {
     "delete_cmd_postfix": ") ",
     "delete_cmd_prefix": "rm(",
     "library": "var_list.r",
     "varRefreshCmd": "cat(var_dic_list()) "
    }
   },
   "types_to_exclude": [
    "module",
    "function",
    "builtin_function_or_method",
    "instance",
    "_Feature"
   ],
   "window_display": false
  }
 },
 "nbformat": 4,
 "nbformat_minor": 4
}
