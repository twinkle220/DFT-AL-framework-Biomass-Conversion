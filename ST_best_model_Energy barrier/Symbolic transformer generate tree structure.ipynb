{
 "cells": [
  {
   "cell_type": "code",
   "execution_count": 1,
   "metadata": {},
   "outputs": [],
   "source": [
    "import numpy as np\n",
    "import pandas as pd\n",
    "import csv\n",
    "import pickle\n",
    "from joblib import dump, load\n",
    "from sklearn import utils\n",
    "from sklearn import preprocessing\n",
    "from sklearn.metrics import mean_squared_error\n",
    "from sklearn.metrics import r2_score\n",
    "from sklearn.model_selection import train_test_split\n",
    "from sklearn.preprocessing import StandardScaler\n",
    "from gplearn.genetic import SymbolicTransformer, SymbolicRegressor\n",
    "\n",
    "import datetime\n",
    "import time\n",
    "\n",
    "from IPython.display import Image\n",
    "import pydotplus\n",
    "\n",
    "import re\n",
    "import os\n",
    "os.environ[\"Path\"] += os.pathsep + 'D:/Program Files/graphviz/bin/'"
   ]
  },
  {
   "cell_type": "markdown",
   "metadata": {},
   "source": [
    "# split str"
   ]
  },
  {
   "cell_type": "code",
   "execution_count": 2,
   "metadata": {},
   "outputs": [],
   "source": [
    "def go_split(s, symbol):\n",
    "    symbol = \"[\" + symbol + \"]+\"\n",
    "    result = re.split(symbol, s)\n",
    "    return [x for x in result if x]"
   ]
  },
  {
   "cell_type": "markdown",
   "metadata": {},
   "source": [
    "# read data"
   ]
  },
  {
   "cell_type": "code",
   "execution_count": 3,
   "metadata": {},
   "outputs": [],
   "source": [
    "path = \"_6D\"\n",
    "demension = path.split('_')[1]\n",
    "best_gp = pickle.load(open(demension+\"gp\"+path+\".pickle.dat\", \"rb\"))\n",
    "best_fitness = best_gp.run_details_['best_fitness'][-1]"
   ]
  },
  {
   "cell_type": "markdown",
   "metadata": {},
   "source": [
    "# generate tree structure"
   ]
  },
  {
   "cell_type": "code",
   "execution_count": 4,
   "metadata": {},
   "outputs": [],
   "source": [
    "for i in range(int(demension.split('D')[0])):\n",
    "    graph = best_gp._best_programs[i].export_graphviz()\n",
    "    graph = pydotplus.graphviz.graph_from_dot_data(graph)\n",
    "    img = Image(graph.create_png())\n",
    "    graph.write_pdf(demension+\"\\\\\"+demension+\"_\"+str(i)+\".pdf\")"
   ]
  },
  {
   "cell_type": "markdown",
   "metadata": {},
   "source": [
    "# generate feature complexixty"
   ]
  },
  {
   "cell_type": "code",
   "execution_count": 5,
   "metadata": {},
   "outputs": [],
   "source": [
    "feature_complex = []\n",
    "for i in range(int(demension.split('D')[0])):\n",
    "    list_complex= str(best_gp._best_programs[i])\n",
    "    s = list_complex\n",
    "    symbol = '](),1234567890[ '\n",
    "    result = go_split(s, symbol)\n",
    "    Num = result.count('add') + result.count('sub') + result.count('mul') + result.count('X')\\\n",
    "      +(result.count('abs') + result.count('div'))*2+ result.count('sqrt')*4\n",
    "    feature_complex.append(Num)\n",
    "feature_complex = pd.DataFrame(feature_complex)\n",
    "feature_complex.to_csv(demension+\"\\\\\"+demension+\"_feature_complex\"+\".csv\",sep=',')"
   ]
  },
  {
   "cell_type": "code",
   "execution_count": null,
   "metadata": {},
   "outputs": [],
   "source": []
  },
  {
   "cell_type": "code",
   "execution_count": null,
   "metadata": {},
   "outputs": [],
   "source": []
  }
 ],
 "metadata": {
  "kernelspec": {
   "display_name": "Python 3 (ipykernel)",
   "language": "python",
   "name": "python3"
  },
  "language_info": {
   "codemirror_mode": {
    "name": "ipython",
    "version": 3
   },
   "file_extension": ".py",
   "mimetype": "text/x-python",
   "name": "python",
   "nbconvert_exporter": "python",
   "pygments_lexer": "ipython3",
   "version": "3.10.9"
  },
  "varInspector": {
   "cols": {
    "lenName": 16,
    "lenType": 16,
    "lenVar": 40
   },
   "kernels_config": {
    "python": {
     "delete_cmd_postfix": "",
     "delete_cmd_prefix": "del ",
     "library": "var_list.py",
     "varRefreshCmd": "print(var_dic_list())"
    },
    "r": {
     "delete_cmd_postfix": ") ",
     "delete_cmd_prefix": "rm(",
     "library": "var_list.r",
     "varRefreshCmd": "cat(var_dic_list()) "
    }
   },
   "types_to_exclude": [
    "module",
    "function",
    "builtin_function_or_method",
    "instance",
    "_Feature"
   ],
   "window_display": false
  }
 },
 "nbformat": 4,
 "nbformat_minor": 4
}
